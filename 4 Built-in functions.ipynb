{
 "cells": [
  {
   "cell_type": "markdown",
   "metadata": {},
   "source": [
    "# Python built-in Functions\n",
    "\n",
    "The Python interpreter has a number of functions and types built into it that are always available. \n",
    "\n",
    "https://docs.python.org/3/library/functions.html"
   ]
  },
  {
   "cell_type": "code",
   "execution_count": null,
   "metadata": {},
   "outputs": [],
   "source": [
    "# abs(x) - Return the absolute value of a number.\n",
    "\n",
    "print(abs(-45))\n",
    "print(abs(-5))\n",
    "print(abs(10))"
   ]
  },
  {
   "cell_type": "code",
   "execution_count": null,
   "metadata": {},
   "outputs": [],
   "source": [
    "# all(iterable) - Return True if all elements of the iterable are true (or if the iterable is empty).\n",
    "a = [1, 2, 3]\n",
    "print(all(a))\n",
    "\n",
    "a = [1, 0, 3]\n",
    "print(all(a))\n",
    "\n",
    "a = [1, \"2\", 3, []]\n",
    "print(all(a))"
   ]
  },
  {
   "cell_type": "code",
   "execution_count": null,
   "metadata": {},
   "outputs": [],
   "source": [
    "# any(iterable) - Return True if any element of the iterable is true. If the iterable is empty, return False.\n",
    "a = [0, \"\", None]\n",
    "print(any(a))\n",
    "\n",
    "a = [None, 0, 3]\n",
    "print(any(a))\n",
    "\n",
    "a = [0, \"2\", None, []]\n",
    "print(any(a))"
   ]
  },
  {
   "cell_type": "code",
   "execution_count": null,
   "metadata": {},
   "outputs": [],
   "source": [
    "# ascii(object) - Return a string containing a printable representation of an object.\n",
    "print(ascii(\"ž\"))\n",
    "print(ascii(\"Hello World\"))"
   ]
  },
  {
   "cell_type": "code",
   "execution_count": null,
   "metadata": {},
   "outputs": [],
   "source": [
    "# bin(x) - Convert an integer number to a binary string prefixed with “0b”.\n",
    "print(bin(4))\n",
    "print(bin(48))"
   ]
  },
  {
   "cell_type": "code",
   "execution_count": null,
   "metadata": {},
   "outputs": [],
   "source": [
    "# bool([x]) - Return a Boolean value, i.e. one of True or False.\n",
    "print(bool([]))\n",
    "print(bool(4))\n",
    "print(bool(0))"
   ]
  },
  {
   "cell_type": "code",
   "execution_count": null,
   "metadata": {},
   "outputs": [],
   "source": [
    "# callable(object) - Return True if the object argument appears callable, False if not.\n",
    "def func():\n",
    "    print(\"Text\")\n",
    "    \n",
    "print(callable(4))\n",
    "print(callable(func))"
   ]
  },
  {
   "cell_type": "code",
   "execution_count": null,
   "metadata": {},
   "outputs": [],
   "source": [
    "# chr(x) - Return the string representing a character whose Unicode code point is the integer x.\n",
    "print(chr(234))\n",
    "print(chr(8364))"
   ]
  },
  {
   "cell_type": "code",
   "execution_count": null,
   "metadata": {},
   "outputs": [],
   "source": [
    "# complex([real[, imag]]) - Return a complex number with the value real + imag*1j or convert a string or number to a \n",
    "#complex number. If the first parameter is a string, it will be interpreted as a complex number and\n",
    "#the function must be called without a second parameter. The second parameter can never be a string. \n",
    "#Each argument may be any numeric type (including complex). If imag is omitted, it defaults to zero \n",
    "#and the constructor serves as a numeric conversion like int and float. If both arguments are omitted, returns 0j.\n",
    "\n",
    "print(complex(\"1+2j\"))\n",
    "print(complex(45))"
   ]
  },
  {
   "cell_type": "code",
   "execution_count": null,
   "metadata": {},
   "outputs": [],
   "source": [
    "# dict(**kwarg) / dict(mapping, **kwarg) / dict(iterable, **kwarg) - creates a new dictionary\n",
    "print(dict([(\"1\", 1), (\"2\", 2), (\"3\", 3), (\"4\", 4)]))"
   ]
  },
  {
   "cell_type": "code",
   "execution_count": null,
   "metadata": {},
   "outputs": [],
   "source": [
    "# divmod(a, b) - Take two (non complex) numbers as arguments and return a pair of numbers consisting of their \n",
    "#quotient and remainder when using integer division. \n",
    "\n",
    "print(\"divmod(8, 3) = \", divmod(8, 3))\n",
    "print(\"divmod(3, 8) = \", divmod(3, 8))\n",
    "print(\"divmod(5, 5) = \", divmod(5, 5))"
   ]
  },
  {
   "cell_type": "code",
   "execution_count": null,
   "metadata": {},
   "outputs": [],
   "source": [
    "# enumerate(iterable, start=0) - Return an enumerate object. iterable must be a sequence, \n",
    "#an iterator, or some other object which supports iteration. \n",
    "\n",
    "a = enumerate([1, 2, 3])\n",
    "print(next(a))\n",
    "print(next(a))"
   ]
  },
  {
   "cell_type": "code",
   "execution_count": null,
   "metadata": {},
   "outputs": [],
   "source": [
    "# eval(expression, globals=None, locals=None) - The arguments are a string and optional globals and locals. \n",
    "#If provided, globals must be a dictionary. If provided, locals can be any mapping object.\n",
    "\n",
    "x = 1\n",
    "print(eval(\"x + 1\"))\n",
    "print(eval(\"type(x)\"))\n",
    "eval(\"print('Hello')\")"
   ]
  },
  {
   "cell_type": "code",
   "execution_count": null,
   "metadata": {},
   "outputs": [],
   "source": [
    "# exec(object[, globals[, locals]]) - This function supports dynamic execution of Python code. \n",
    "#Object must be either a string or a code object.\n",
    "\n",
    "exec(\"print('Hello')\")"
   ]
  },
  {
   "cell_type": "code",
   "execution_count": null,
   "metadata": {},
   "outputs": [],
   "source": [
    "# filter(function, iterable) - Construct an iterator from those elements of iterable for which function returns true. \n",
    "#iterable may be either a sequence, a container which supports iteration, or an iterator. If function is None, \n",
    "#the identity function is assumed, that is, all elements of iterable that are false are removed.\n",
    "\n",
    "number_list = range(-5, 5)\n",
    "\n",
    "print(number_list)\n",
    "\n",
    "less_than_zero = filter(lambda x: x < 0, number_list)\n",
    "\n",
    "print(less_than_zero)\n",
    "\n",
    "less_than_zero = list(less_than_zero)\n",
    "\n",
    "print(less_than_zero)"
   ]
  },
  {
   "cell_type": "code",
   "execution_count": null,
   "metadata": {},
   "outputs": [],
   "source": [
    "# float([x]) - Return a floating point number constructed from a number or string x\n",
    "print(float(2))\n",
    "print(float(\"20\"))"
   ]
  },
  {
   "cell_type": "code",
   "execution_count": null,
   "metadata": {},
   "outputs": [],
   "source": [
    "# format(value[, format_spec]) - Convert a value to a “formatted” representation, as controlled by format_spec.\n",
    "# https://docs.python.org/3/library/string.html#formatspec\n",
    "\n",
    "# integer\n",
    "print(format(123, \"d\"))\n",
    "\n",
    "# float\n",
    "print(format(123, \"f\"))\n",
    "\n",
    "# binary\n",
    "print(format(12, \"b\"))\n",
    "\n",
    "# integer \n",
    "print(format(1234, \"*>+7,d\"))\n",
    "\n",
    "# float\n",
    "print(format(123.4567, \"^-09.2f\"))"
   ]
  },
  {
   "cell_type": "code",
   "execution_count": null,
   "metadata": {},
   "outputs": [],
   "source": [
    "# frozenset([iterable]) - Return a new frozenset object, optionally with elements taken from iterable. \n",
    "print(type(frozenset([1, 2, 2, 4])))\n",
    "print(list(frozenset([1, 2, 2, 4])))"
   ]
  },
  {
   "cell_type": "code",
   "execution_count": null,
   "metadata": {},
   "outputs": [],
   "source": [
    "# help([object]) - Invoke the built-in help system.\n",
    "print(help(list))\n",
    "help(help(int))"
   ]
  },
  {
   "cell_type": "code",
   "execution_count": null,
   "metadata": {},
   "outputs": [],
   "source": [
    "# hex(x) - Convert an integer number to a lowercase hexadecimal string prefixed with “0x”.\n",
    "print(hex(40))\n",
    "print(hex(13))"
   ]
  },
  {
   "cell_type": "code",
   "execution_count": null,
   "metadata": {},
   "outputs": [],
   "source": [
    "# id(object) - Return the “identity” of an object.\n",
    "a = 1\n",
    "b = a\n",
    "\n",
    "print(id(a))\n",
    "print(id(b))"
   ]
  },
  {
   "cell_type": "code",
   "execution_count": null,
   "metadata": {},
   "outputs": [],
   "source": [
    "# input([prompt]) - If the prompt argument is present, it is written to standard output without a trailing newline. \n",
    "print(input(\"What is your name?\"))"
   ]
  },
  {
   "cell_type": "code",
   "execution_count": null,
   "metadata": {},
   "outputs": [],
   "source": [
    "# int(x=0) / int(x, base=10) - Return an integer object constructed from a number or string x, \n",
    "#or return 0 if no arguments are given.\n",
    "print(type(int(2.33)))\n",
    "print(type(int(\"5\")))"
   ]
  },
  {
   "cell_type": "code",
   "execution_count": null,
   "metadata": {},
   "outputs": [],
   "source": [
    "# iter(object[, sentinel]) - Return an iterator object.\n",
    "print(type(iter([1, 2, 3])))"
   ]
  },
  {
   "cell_type": "code",
   "execution_count": null,
   "metadata": {},
   "outputs": [],
   "source": [
    "# len(s) - Return the length (the number of items) of an object.\n",
    "print(len([1, 2, 3]))\n",
    "print(len(\"three\"))"
   ]
  },
  {
   "cell_type": "code",
   "execution_count": null,
   "metadata": {},
   "outputs": [],
   "source": [
    "# list([iterable]) - Return List object.\n",
    "print(type(list(iter([1, 2, 3]))))"
   ]
  },
  {
   "cell_type": "code",
   "execution_count": null,
   "metadata": {},
   "outputs": [],
   "source": [
    "# map(function, iterable, ...) - Return an iterator that applies function to every item of iterable, yielding the results. \n",
    "def calculate_square(n):\n",
    "    return n * n\n",
    "\n",
    "numbers = (1, 2, 3, 4)\n",
    "result = map(calculate_square, numbers)\n",
    "print(list(result))\n",
    "\n",
    "result = map(lambda a: a * a , numbers)\n",
    "print(list(result))"
   ]
  },
  {
   "cell_type": "code",
   "execution_count": null,
   "metadata": {},
   "outputs": [],
   "source": [
    "# max(iterable, *[, key, default]) / max(arg1, arg2, *args[, key]) - Return the largest item in an iterable or \n",
    "#the largest of two or more arguments.\n",
    "print(max(100, 300, 12))\n",
    "print(max([100, 300, 12]))"
   ]
  },
  {
   "cell_type": "code",
   "execution_count": null,
   "metadata": {},
   "outputs": [],
   "source": [
    "# min(iterable, *[, key, default]) / min(arg1, arg2, *args[, key]) - Return the smallest item in an iterable or \n",
    "#the smallest of two or more arguments.\n",
    "print(min(100, 300, 12))\n",
    "print(min([100, 300, 12]))"
   ]
  },
  {
   "cell_type": "code",
   "execution_count": null,
   "metadata": {},
   "outputs": [],
   "source": [
    "# next(iterator[, default]) - Retrieve the next item from the iterator by calling its __next__() method.\n",
    "random = [5, 9, \"10\"]\n",
    "\n",
    "random_iterator = iter(random)\n",
    "print(random_iterator)\n",
    "\n",
    "print(next(random_iterator))"
   ]
  },
  {
   "cell_type": "code",
   "execution_count": null,
   "metadata": {},
   "outputs": [],
   "source": [
    "# oct(x) - Convert an integer number to an octal string prefixed with “0o”. \n",
    "print(oct(7))\n",
    "print(oct(17))"
   ]
  },
  {
   "cell_type": "code",
   "execution_count": null,
   "metadata": {},
   "outputs": [],
   "source": [
    "# ord(c) - Given a string representing one Unicode character, return an integer representing the Unicode \n",
    "#code point of that character. \n",
    "print(ord(\"ę\"))\n",
    "print(ord(\"€\"))"
   ]
  },
  {
   "cell_type": "code",
   "execution_count": null,
   "metadata": {},
   "outputs": [],
   "source": [
    "# pow(x, y[, z]) - Return x to the power y.\n",
    "print(pow(2, 3))\n",
    "print(pow(4, 2))"
   ]
  },
  {
   "cell_type": "code",
   "execution_count": null,
   "metadata": {},
   "outputs": [],
   "source": [
    "# print(*objects, sep=' ', end='\\n', file=sys.stdout, flush=False) - Print objects to the text stream file, \n",
    "#separated by sep and followed by end. sep, end, file and flush, if present, must be given as keyword arguments.\n",
    "print(\"Text\")"
   ]
  },
  {
   "cell_type": "code",
   "execution_count": null,
   "metadata": {},
   "outputs": [],
   "source": [
    "# range(stop) / range(start, stop[, step]) - Return range\n",
    "print(type(range(10)))\n",
    "print(type(list(range(10))))"
   ]
  },
  {
   "cell_type": "code",
   "execution_count": null,
   "metadata": {},
   "outputs": [],
   "source": [
    "# reversed(seq) - Return a reverse iterator.\n",
    "a = [1, 5, \"r\"]\n",
    "print(a)\n",
    "print(list(reversed(a)))"
   ]
  },
  {
   "cell_type": "code",
   "execution_count": null,
   "metadata": {},
   "outputs": [],
   "source": [
    "# round(number[, ndigits]) - Return number rounded to ndigits precision after the decimal point. \n",
    "print(round(12.3456))\n",
    "print(round(2.665, 2))"
   ]
  },
  {
   "cell_type": "code",
   "execution_count": null,
   "metadata": {},
   "outputs": [],
   "source": [
    "# class set([iterable]) - Return a new set object, optionally with elements taken from iterable.\n",
    "print(set(\"Python\"))"
   ]
  },
  {
   "cell_type": "code",
   "execution_count": null,
   "metadata": {},
   "outputs": [],
   "source": [
    "# class slice(stop) / class slice(start, stop[, step]) - Return a slice object representing the set of indices specified \n",
    "#by range(start, stop, step).\n",
    "text = \"Python\"\n",
    "\n",
    "slice_obj = slice(3)\n",
    "print(text[slice_obj])\n",
    "\n",
    "slice_obj = slice(1, 5, 2)\n",
    "print(text[slice_obj])"
   ]
  },
  {
   "cell_type": "code",
   "execution_count": null,
   "metadata": {},
   "outputs": [],
   "source": [
    "# sorted(iterable, *, key=None, reverse=False) - Return a new sorted list from the items in iterable.\n",
    "a = [45, 34, 99, 23]\n",
    "\n",
    "print(sorted(a))\n",
    "print(sorted(a, reverse=True))\n",
    "\n",
    "\n",
    "a = [(2, 2), (3, 4), (4, 1), (1, 3)]\n",
    "print(sorted(a, key=lambda x: x[1]))"
   ]
  },
  {
   "cell_type": "code",
   "execution_count": null,
   "metadata": {},
   "outputs": [],
   "source": [
    "# class str(object='') / class str(object=b'', encoding='utf-8', errors='strict') - Return a str version of object.\n",
    "print(type(str(6)))\n",
    "print(str(6))\n",
    "print(type(str([1, 6])))\n",
    "print(str([1, 6]))"
   ]
  },
  {
   "cell_type": "code",
   "execution_count": null,
   "metadata": {},
   "outputs": [],
   "source": [
    "# sum(iterable[, start]) - Sums start and the items of an iterable from left to right and returns the total.\n",
    "a = [1, 2, 3, 4, 5]\n",
    "\n",
    "print(sum(a))\n",
    "print(sum(a, 4))"
   ]
  },
  {
   "cell_type": "code",
   "execution_count": null,
   "metadata": {},
   "outputs": [],
   "source": [
    "# tuple([iterable]) - Convert to tuple\n",
    "print(type(tuple([1, 2, 3])))\n",
    "\n",
    "print(type(tuple(\"Python\")))"
   ]
  },
  {
   "cell_type": "code",
   "execution_count": null,
   "metadata": {},
   "outputs": [],
   "source": [
    "# class type(object) / class type(name, bases, dict) - The return value is a type object\n",
    "print(type(int()))"
   ]
  },
  {
   "cell_type": "code",
   "execution_count": null,
   "metadata": {},
   "outputs": [],
   "source": [
    "# zip(*iterables) - Make an iterator that aggregates elements from each of the iterables.\n",
    "a = zip([\"a\", \"b\", \"c\", \"d\"], [1, 2, 3, 4])\n",
    "b = list(a)\n",
    "\n",
    "print(b)\n",
    "\n",
    "x, y = zip(*b)\n",
    "print(x, y)"
   ]
  },
  {
   "cell_type": "code",
   "execution_count": null,
   "metadata": {},
   "outputs": [],
   "source": [
    "# unpack operator *\n",
    "def func(a, b, c, d):\n",
    "    print(a, b, c, d)\n",
    "\n",
    "my_list = [1, 2, 3, 4] \n",
    "func(my_list)"
   ]
  },
  {
   "cell_type": "code",
   "execution_count": null,
   "metadata": {},
   "outputs": [],
   "source": [
    "# unpack operator *\n",
    "def func(a, b, c, d):\n",
    "    print(a, b, c, d)\n",
    "\n",
    "my_list = [1, 2, 3, 4] \n",
    "func(*my_list)"
   ]
  },
  {
   "cell_type": "code",
   "execution_count": null,
   "metadata": {},
   "outputs": [],
   "source": [
    "# unpack operator **\n",
    "def func(a, b, c, d):\n",
    "    print(a, b, c, d)\n",
    "\n",
    "my_dict = {\"a\": 10, \"b\": 20, \"c\": 30, \"d\": 40}\n",
    "func(**my_dict)"
   ]
  },
  {
   "cell_type": "markdown",
   "metadata": {},
   "source": [
    "# Tasks\n",
    "\n",
    "1. Write a program that asks the user to enter comma-separated digits. Write data management exceptions. Using Python built-in functions output to the screen: sum of digits entered, maximum and minimum values, values which index is between 2 and 4, number of numbers entered, values greater than 10, list in ascending and descending order, and \"inverted \"list entered.\n",
    "2. Sort the list by item length in ascending and descending order.\n",
    "```python\n",
    "    sort_me = [\"Kaunas\", \"Vilnius\", \"Alytus\", \"Klaipeda\", \"Varena\", \"Druskininkai\", \"Klaipeda\"]\n",
    "```\n",
    "3. Perform list element transformation: 1. by using formula: x = x * (x - 10), 2. square each element.\n",
    "```python\n",
    "    my_list = [12, 45, 23, 56, -546, 34]\n",
    "```\n",
    "4. Sort the dictionary according to the second item in the value list in ascending and descending order.\n",
    "```python\n",
    "    sort_me = { \n",
    "        \"a\": [7, 1, 9], \n",
    "        \"b\": [8, -4, 3],\n",
    "        \"c\": [9, 10, 151],\n",
    "        \"d\": [-3, 9, 11]\n",
    "    }\n",
    "```"
   ]
  }
 ],
 "metadata": {
  "kernelspec": {
   "display_name": "Python 3",
   "language": "python",
   "name": "python3"
  },
  "language_info": {
   "codemirror_mode": {
    "name": "ipython",
    "version": 3
   },
   "file_extension": ".py",
   "mimetype": "text/x-python",
   "name": "python",
   "nbconvert_exporter": "python",
   "pygments_lexer": "ipython3",
   "version": "3.7.4"
  }
 },
 "nbformat": 4,
 "nbformat_minor": 2
}
